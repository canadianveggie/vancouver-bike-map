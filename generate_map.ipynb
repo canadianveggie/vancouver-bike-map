{
 "cells": [
  {
   "cell_type": "code",
   "execution_count": null,
   "id": "e4c8967d-d1a9-40a1-98e0-f7387f8d64ae",
   "metadata": {
    "tags": []
   },
   "outputs": [],
   "source": [
    "import geopandas\n",
    "import urllib\n",
    "import pandas\n",
    "from datetime import date\n",
    "import matplotlib\n",
    "import matplotlib.pyplot as plt\n",
    "import numpy as np\n",
    "import contextily\n",
    "import re"
   ]
  },
  {
   "cell_type": "code",
   "execution_count": null,
   "id": "fc1577fb-80dd-48d7-86ac-916a18768e6e",
   "metadata": {
    "tags": []
   },
   "outputs": [],
   "source": [
    "import fiona;\n",
    "fiona.supported_drivers\n"
   ]
  },
  {
   "cell_type": "code",
   "execution_count": null,
   "id": "77dd23de-0b27-4f68-a0c0-2f06f83ad13b",
   "metadata": {
    "tags": []
   },
   "outputs": [],
   "source": [
    "# mapping_crs = \"EPSG:3347\" # NAD83 / Statistics Canada Lambert\n",
    "mapping_crs = \"EPSG:3857\" # Pseudo-Mercator\n",
    "output_crs = \"EPSG:4326\" # Lat/Lng https://epsg.io/4326"
   ]
  },
  {
   "cell_type": "code",
   "execution_count": null,
   "id": "8b8e09c1-427b-44db-b16e-218604f18256",
   "metadata": {
    "tags": []
   },
   "outputs": [],
   "source": [
    "def load_geodataset(remote_path, local_path, refresh_cache=False):\n",
    "    df = None\n",
    "    if not refresh_cache:\n",
    "        try:\n",
    "            df = geopandas.read_file(local_path)\n",
    "        except Exception as e:\n",
    "            print(e)\n",
    "    \n",
    "    if df is None:\n",
    "        print(f\"Loading {remote_path}\")\n",
    "        df = geopandas.read_file(remote_path)\n",
    "\n",
    "        print(f\"Saving to {local_path}\")\n",
    "        df.to_file(local_path)\n",
    "\n",
    "    return df"
   ]
  },
  {
   "cell_type": "code",
   "execution_count": null,
   "id": "b2b699c2-74af-4d32-bfbf-26e438516660",
   "metadata": {
    "tags": []
   },
   "outputs": [],
   "source": [
    "def get_vancouver_bike_map(refresh_cache=False):\n",
    "    # Get City of Vancouver's bikeways dataset https://opendata.vancouver.ca/explore/dataset/bikeways/\n",
    "    remote_path = \"https://opendata.vancouver.ca/api/explore/v2.1/catalog/datasets/bikeways/exports/geojson?lang=en&timezone=America%2FLos_Angeles\"\n",
    "    local_path = \"data/bikeways.geojson\"\n",
    "    return load_geodataset(remote_path, local_path, refresh_cache=refresh_cache)\n"
   ]
  },
  {
   "cell_type": "code",
   "execution_count": null,
   "id": "658f0a80-fc9e-4b73-b91e-8f9bfb24e0ac",
   "metadata": {},
   "outputs": [],
   "source": [
    "pandas.set_option('display.max_columns', None)"
   ]
  },
  {
   "cell_type": "code",
   "execution_count": null,
   "id": "8a87f46a-00e2-48f2-9221-f519fac6f364",
   "metadata": {
    "tags": []
   },
   "outputs": [],
   "source": [
    "vancouver_bike_map = get_vancouver_bike_map()\n",
    "vancouver_bike_map"
   ]
  },
  {
   "cell_type": "code",
   "execution_count": null,
   "id": "c6f8c8ac-a0c4-4bde-8bf5-1ffe30a2745f",
   "metadata": {
    "tags": []
   },
   "outputs": [],
   "source": [
    "def calc_removed_year(row):\n",
    "    if row[\"status\"] == \"Legacy\":\n",
    "        m = re.search(r\"Removed in (\\d{4})\", row[\"notes\"])\n",
    "        if m:\n",
    "            return int(m.group(1))\n",
    "    return np.NaN\n"
   ]
  },
  {
   "cell_type": "code",
   "execution_count": null,
   "id": "ee991fa1-e575-4518-a906-e560232e3e97",
   "metadata": {
    "tags": []
   },
   "outputs": [],
   "source": [
    "vancouver_bike_map[\"year_removed\"] = vancouver_bike_map.apply(calc_removed_year, axis=1)"
   ]
  },
  {
   "cell_type": "code",
   "execution_count": null,
   "id": "e9f680a7-c7c1-4895-8ce2-201394650b96",
   "metadata": {
    "tags": []
   },
   "outputs": [],
   "source": [
    "vancouver_bike_map = vancouver_bike_map[~vancouver_bike_map[\"year_of_construction\"].isna()]\n",
    "vancouver_bike_map = vancouver_bike_map.astype({\"year_of_construction\": \"float\", \"upgrade_year\": \"float\"})\n"
   ]
  },
  {
   "cell_type": "code",
   "execution_count": null,
   "id": "3178994e-bad0-4c94-99f0-7bce59dcf3f0",
   "metadata": {},
   "outputs": [],
   "source": [
    "vancouver_bike_map.plot()"
   ]
  },
  {
   "cell_type": "code",
   "execution_count": null,
   "id": "02b67188-50b3-4212-a20c-565d82ffd866",
   "metadata": {
    "tags": []
   },
   "outputs": [],
   "source": [
    "vancouver_bike_map = vancouver_bike_map.to_crs(mapping_crs)"
   ]
  },
  {
   "cell_type": "code",
   "execution_count": null,
   "id": "21e97c5b-e0c4-41a9-9921-83702818fdd6",
   "metadata": {
    "tags": []
   },
   "outputs": [],
   "source": [
    "full_map = vancouver_bike_map.plot(column=\"year_of_construction\")"
   ]
  },
  {
   "cell_type": "code",
   "execution_count": null,
   "id": "d664dc86-f863-400d-b075-2b2949bf3687",
   "metadata": {},
   "outputs": [],
   "source": [
    "full_map = vancouver_bike_map.plot(column=\"aaa_network\")"
   ]
  },
  {
   "cell_type": "code",
   "execution_count": null,
   "id": "5c0fb315-8618-475a-a96a-ed04c8f5f0d5",
   "metadata": {},
   "outputs": [],
   "source": [
    "full_map = vancouver_bike_map.plot(column=\"aaa_segment\")"
   ]
  },
  {
   "cell_type": "code",
   "execution_count": null,
   "id": "fc736a91-b2bf-4c15-9550-d5fa2fde7f7f",
   "metadata": {},
   "outputs": [],
   "source": [
    "vancouver_bike_map[[\"bikeway_type\", \"aaa_segment\", \"segment_length\"]].groupby([\"bikeway_type\", \"aaa_segment\"]).sum()"
   ]
  },
  {
   "cell_type": "code",
   "execution_count": null,
   "id": "87e12593-6618-4313-8294-71317031cd81",
   "metadata": {
    "tags": []
   },
   "outputs": [],
   "source": [
    "contextily.providers"
   ]
  },
  {
   "cell_type": "code",
   "execution_count": null,
   "id": "5682a56a-8ae2-403e-b21a-d230006d9e8e",
   "metadata": {},
   "outputs": [],
   "source": [
    "blue_colors = matplotlib.colors.ListedColormap([\"xkcd:bright blue\", \"xkcd:sky blue\"])\n",
    "blue_colors\n"
   ]
  },
  {
   "cell_type": "code",
   "execution_count": null,
   "id": "51f31c8e-39ee-49db-909f-f1ed39b64e7a",
   "metadata": {},
   "outputs": [],
   "source": [
    "def filter_bike_map(year):\n",
    "    # Figure out of the bike lane as AAA in this year\n",
    "    def calc_current_status(row):\n",
    "        if row[\"aaa_segment\"] == \"YES\" and not (year < row[\"upgrade_year\"]):\n",
    "            return \"AAA\"\n",
    "        return \"standard\"\n",
    "    vancouver_bike_map[\"current_type\"] = vancouver_bike_map.apply(calc_current_status, axis=1)\n",
    "\n",
    "    filtered = vancouver_bike_map[(year >= vancouver_bike_map[\"year_of_construction\"]) & ~(year >= vancouver_bike_map[\"year_removed\"])]\n",
    "    return filtered"
   ]
  },
  {
   "cell_type": "code",
   "execution_count": null,
   "id": "6bac084b-8a73-4481-90a1-88b2da133bef",
   "metadata": {},
   "outputs": [],
   "source": [
    "min_year = int(min(vancouver_bike_map[\"year_of_construction\"]))\n",
    "max_year = date.today().year"
   ]
  },
  {
   "cell_type": "code",
   "execution_count": null,
   "id": "dbc60c7d-d32a-4a33-88e4-e7cac70cc4c1",
   "metadata": {},
   "outputs": [],
   "source": [
    "bikeway_summary_by_year = []\n",
    "for year in range(min_year, max_year+1):\n",
    "    filtered = filter_bike_map(year)\n",
    "    bikeway_summary_by_year.append({\n",
    "        \"year\": year,\n",
    "        \"total\": filtered[\"segment_length\"].sum() / 1000,\n",
    "        \"AAA\": filtered[filtered[\"current_type\"] == \"AAA\"][\"segment_length\"].sum() / 1000,\n",
    "        \"standard\": filtered[filtered[\"current_type\"] == \"standard\"][\"segment_length\"].sum() / 1000,\n",
    "    })\n",
    "bikeway_summary_by_year = pandas.DataFrame(bikeway_summary_by_year).set_index(\"year\")"
   ]
  },
  {
   "cell_type": "code",
   "execution_count": null,
   "id": "df179e95-2ede-489b-b817-e586ea199fb5",
   "metadata": {},
   "outputs": [],
   "source": [
    "bikeway_summary_by_year"
   ]
  },
  {
   "cell_type": "code",
   "execution_count": null,
   "id": "d1d3eb43-d6e5-474e-941a-12a7341312e2",
   "metadata": {},
   "outputs": [],
   "source": [
    "bikeway_summary_by_year[[\"AAA\", \"standard\"]].plot.area(stacked=True, cmap=blue_colors)"
   ]
  },
  {
   "cell_type": "code",
   "execution_count": null,
   "id": "815e09f8-ffc4-4929-a54f-a57688fb7f8f",
   "metadata": {
    "tags": []
   },
   "outputs": [],
   "source": [
    "def draw_map(bike_map, filename, subtitle=None, color_by=None, cmap=None, title=\"Vancouver Bike Map\", summary=None):\n",
    "    ax = bike_map.plot(figsize=(10, 10), column=color_by, cmap=cmap, legend=True)\n",
    "    ax.set_xlim(full_map.get_xlim())\n",
    "    ax.set_ylim(full_map.get_ylim())\n",
    "    ax.set_axis_off()\n",
    "    ax.text(1, 0, 'https://canadianveggie.com', transform=ax.transAxes,\n",
    "        fontsize=10, color='gray', alpha=0.5,\n",
    "        ha='right', va='bottom')\n",
    "    # ax.get_xaxis().set_visible(False)\n",
    "    # ax.get_yaxis().set_visible(False)\n",
    "    plt.title(subtitle,fontsize=18, y=1)\n",
    "    plt.suptitle(title,fontsize=30, y=0.95)\n",
    "    contextily.add_basemap(ax, source=contextily.providers.CartoDB.Voyager)\n",
    "    if summary is not None:\n",
    "        axin1 = ax.inset_axes([0.072, 0.83, 0.25, 0.15])\n",
    "        summary_chart = summary.plot.area(ax=axin1, legend=False, stacked=True, linewidth=0, cmap=blue_colors)\n",
    "        summary_chart.set_ylim(0, 400)\n",
    "        summary_chart.set_ylabel(\"kms\")\n",
    "    ax.get_figure().savefig(filename)\n",
    "    plt.close('all')\n"
   ]
  },
  {
   "cell_type": "code",
   "execution_count": null,
   "id": "02965a20-0f80-4f86-8cbc-47175c0d6ffd",
   "metadata": {
    "tags": []
   },
   "outputs": [],
   "source": [
    "draw_map(vancouver_bike_map, f\"output/all.png\", color_by=\"bikeway_type\")"
   ]
  },
  {
   "cell_type": "code",
   "execution_count": null,
   "id": "bf3c16c5-8af8-44f0-ad22-16fb14e9ea8f",
   "metadata": {
    "tags": []
   },
   "outputs": [],
   "source": [
    "for year in range(min_year, max_year+1):\n",
    "    print(year)\n",
    "    filtered = filter_bike_map(year)\n",
    "    summary = bikeway_summary_by_year[[\"AAA\", \"standard\"]].copy()\n",
    "    summary.loc[summary.index > year, 'AAA'] = np.nan\n",
    "    summary.loc[summary.index > year, 'standard'] = np.nan\n",
    "    draw_map(filtered, f\"output/vancouver_bike_map_{year}.png\", subtitle=str(year), color_by=\"current_type\", cmap=blue_colors, summary=summary)\n"
   ]
  },
  {
   "cell_type": "code",
   "execution_count": null,
   "id": "f1ca1c89-4dad-488e-b844-5572a6d32ef1",
   "metadata": {},
   "outputs": [],
   "source": []
  },
  {
   "cell_type": "code",
   "execution_count": null,
   "id": "34ef3550-88f5-4404-8b22-e313a3b1c1fb",
   "metadata": {},
   "outputs": [],
   "source": []
  },
  {
   "cell_type": "code",
   "execution_count": null,
   "id": "8cb4ab98-6614-464c-a762-85099708eeb8",
   "metadata": {},
   "outputs": [],
   "source": []
  },
  {
   "cell_type": "code",
   "execution_count": null,
   "id": "bb715390-afa5-455f-a5eb-e06fb21b4dd3",
   "metadata": {},
   "outputs": [],
   "source": []
  },
  {
   "cell_type": "code",
   "execution_count": null,
   "id": "04d15e3e-ffee-409a-8fbc-ce6a4a41159e",
   "metadata": {},
   "outputs": [],
   "source": []
  }
 ],
 "metadata": {
  "kernelspec": {
   "display_name": "Python 3 (ipykernel)",
   "language": "python",
   "name": "python3"
  },
  "language_info": {
   "codemirror_mode": {
    "name": "ipython",
    "version": 3
   },
   "file_extension": ".py",
   "mimetype": "text/x-python",
   "name": "python",
   "nbconvert_exporter": "python",
   "pygments_lexer": "ipython3",
   "version": "3.9.16"
  }
 },
 "nbformat": 4,
 "nbformat_minor": 5
}
